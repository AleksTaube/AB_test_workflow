{
 "cells": [
  {
   "attachments": {},
   "cell_type": "markdown",
   "metadata": {},
   "source": [
    "### Задача\n",
    "Команда ML сделала некоторые новые алгоритмы рекомендаций новостей в ленте одной соцсети. Ожидается, что новые алгоритмы сделают пользователей счастливее (удлинится LTV, повысятся денежные конверсии и т.д.), а продукт удобнее/приятнее в использовании. Необходимо проверить эту гипотезу.\n",
    "\n",
    "Сделано два новых алгоритма рекомендаций:\n",
    "1. Показываем пользователю посты, наиболее похожие на те, которые он лайкал.\n",
    "2. Показываем пользователю посты, которые лайкали похожие на него пользователи."
   ]
  },
  {
   "attachments": {},
   "cell_type": "markdown",
   "metadata": {},
   "source": [
    "### Решение\n",
    "\n",
    "Во-первых, определим показатель, увеличение которого будет говорить, что посты действительно стали интереснее. Возможные варианты:\n",
    "1. Время, проведенное в ленте\n",
    "2. Количество просмотренных постов в единицу времени\n",
    "3. Количество лайков\n",
    "4. CTR из просмотров в лайки\n",
    "\n",
    "Остановимся на CTR, т.к. это явное действие, которое показывает заинтересованность – лайк. Кроме того это довольно стандартная метрика, понятная и простая в расчетах.\n",
    "\n",
    "Во-вторых, проверим, корректно ли проведено сплитование юзеров на группы.\n",
    "\n",
    "В-третьих, проведем сам A/B тест и сделаем вывод о полезности новых алгоритмов."
   ]
  },
  {
   "attachments": {},
   "cell_type": "markdown",
   "metadata": {},
   "source": [
    "#### A/A тест\n",
    "Для проведение необходимо разбить пользователей на группы, исходя из условий:\n",
    "1. Разбиение случайно\n",
    "2. У каждого пользователя в течение эксперимента группа не менялась\n",
    "3. Способ разбиения должен быть детерминированным (чтобы можно было, если нужно, в точности повторить разбиение)\n",
    "\n",
    " Стандартная техника для разбиения — хеширование с солью."
   ]
  },
  {
   "cell_type": "code",
   "execution_count": 2,
   "metadata": {},
   "outputs": [],
   "source": [
    "# функция хэширования с солью со сплитом на 5 групп.\n",
    "\n",
    "def ab_split(id, salt='exp_mess_1', n_groups=5):\n",
    "    test_id = str(id) + '-' + str(salt)\n",
    "    test_id_digest = hashlib.md5(test_id.encode('ascii')).hexdigest()\n",
    "    test_id_final_int = int(test_id_digest, 16)\n",
    "    return test_id_final_int % n_groups"
   ]
  },
  {
   "attachments": {},
   "cell_type": "markdown",
   "metadata": {},
   "source": [
    "В данном проекте разбиение на группы уже проведено (колонка exp_group). Посмотрим на данные."
   ]
  },
  {
   "cell_type": "code",
   "execution_count": 78,
   "metadata": {},
   "outputs": [],
   "source": [
    "import pandas as pd\n",
    "import numpy as np\n",
    "import random\n",
    "from scipy.stats import ttest_ind\n",
    "from scipy.stats import mannwhitneyu\n",
    "from scipy import stats\n",
    "import matplotlib.pyplot as plt\n",
    "import seaborn as sns"
   ]
  },
  {
   "cell_type": "code",
   "execution_count": 14,
   "metadata": {},
   "outputs": [],
   "source": [
    "df = pd.read_csv('feed.csv')"
   ]
  },
  {
   "cell_type": "code",
   "execution_count": 15,
   "metadata": {},
   "outputs": [
    {
     "data": {
      "text/html": [
       "<div>\n",
       "<style scoped>\n",
       "    .dataframe tbody tr th:only-of-type {\n",
       "        vertical-align: middle;\n",
       "    }\n",
       "\n",
       "    .dataframe tbody tr th {\n",
       "        vertical-align: top;\n",
       "    }\n",
       "\n",
       "    .dataframe thead th {\n",
       "        text-align: right;\n",
       "    }\n",
       "</style>\n",
       "<table border=\"1\" class=\"dataframe\">\n",
       "  <thead>\n",
       "    <tr style=\"text-align: right;\">\n",
       "      <th></th>\n",
       "      <th>user_id</th>\n",
       "      <th>post_id</th>\n",
       "      <th>action</th>\n",
       "      <th>time</th>\n",
       "      <th>gender</th>\n",
       "      <th>age</th>\n",
       "      <th>country</th>\n",
       "      <th>city</th>\n",
       "      <th>os</th>\n",
       "      <th>source</th>\n",
       "      <th>exp_group</th>\n",
       "    </tr>\n",
       "  </thead>\n",
       "  <tbody>\n",
       "    <tr>\n",
       "      <th>0</th>\n",
       "      <td>3011</td>\n",
       "      <td>1283</td>\n",
       "      <td>view</td>\n",
       "      <td>2022-12-25 00:00:00</td>\n",
       "      <td>1</td>\n",
       "      <td>27</td>\n",
       "      <td>Russia</td>\n",
       "      <td>Moscow</td>\n",
       "      <td>iOS</td>\n",
       "      <td>ads</td>\n",
       "      <td>4</td>\n",
       "    </tr>\n",
       "    <tr>\n",
       "      <th>1</th>\n",
       "      <td>11066</td>\n",
       "      <td>1398</td>\n",
       "      <td>like</td>\n",
       "      <td>2022-12-25 00:00:00</td>\n",
       "      <td>0</td>\n",
       "      <td>20</td>\n",
       "      <td>Russia</td>\n",
       "      <td>Tomsk</td>\n",
       "      <td>Android</td>\n",
       "      <td>ads</td>\n",
       "      <td>3</td>\n",
       "    </tr>\n",
       "    <tr>\n",
       "      <th>2</th>\n",
       "      <td>14843</td>\n",
       "      <td>1454</td>\n",
       "      <td>like</td>\n",
       "      <td>2022-12-25 00:00:00</td>\n",
       "      <td>0</td>\n",
       "      <td>20</td>\n",
       "      <td>Russia</td>\n",
       "      <td>Kaluga</td>\n",
       "      <td>Android</td>\n",
       "      <td>ads</td>\n",
       "      <td>3</td>\n",
       "    </tr>\n",
       "    <tr>\n",
       "      <th>3</th>\n",
       "      <td>15938</td>\n",
       "      <td>1378</td>\n",
       "      <td>view</td>\n",
       "      <td>2022-12-25 00:00:00</td>\n",
       "      <td>1</td>\n",
       "      <td>19</td>\n",
       "      <td>Russia</td>\n",
       "      <td>Moscow</td>\n",
       "      <td>Android</td>\n",
       "      <td>ads</td>\n",
       "      <td>1</td>\n",
       "    </tr>\n",
       "    <tr>\n",
       "      <th>4</th>\n",
       "      <td>1725</td>\n",
       "      <td>1507</td>\n",
       "      <td>view</td>\n",
       "      <td>2022-12-25 00:00:01</td>\n",
       "      <td>1</td>\n",
       "      <td>19</td>\n",
       "      <td>Ukraine</td>\n",
       "      <td>Kovel</td>\n",
       "      <td>Android</td>\n",
       "      <td>ads</td>\n",
       "      <td>4</td>\n",
       "    </tr>\n",
       "  </tbody>\n",
       "</table>\n",
       "</div>"
      ],
      "text/plain": [
       "   user_id  post_id action                 time  gender  age  country    city  \\\n",
       "0     3011     1283   view  2022-12-25 00:00:00       1   27   Russia  Moscow   \n",
       "1    11066     1398   like  2022-12-25 00:00:00       0   20   Russia   Tomsk   \n",
       "2    14843     1454   like  2022-12-25 00:00:00       0   20   Russia  Kaluga   \n",
       "3    15938     1378   view  2022-12-25 00:00:00       1   19   Russia  Moscow   \n",
       "4     1725     1507   view  2022-12-25 00:00:01       1   19  Ukraine   Kovel   \n",
       "\n",
       "        os source  exp_group  \n",
       "0      iOS    ads          4  \n",
       "1  Android    ads          3  \n",
       "2  Android    ads          3  \n",
       "3  Android    ads          1  \n",
       "4  Android    ads          4  "
      ]
     },
     "execution_count": 15,
     "metadata": {},
     "output_type": "execute_result"
    }
   ],
   "source": [
    "df.head()"
   ]
  },
  {
   "cell_type": "code",
   "execution_count": 16,
   "metadata": {},
   "outputs": [],
   "source": [
    "df['time'] = pd.to_datetime(df['time'])"
   ]
  },
  {
   "attachments": {},
   "cell_type": "markdown",
   "metadata": {},
   "source": [
    "Нужно проверить, что система сплитования корректно бьет пользователей на группы, то есть размеры групп примерно одинаковые и показатели в них сами по себе не различаются"
   ]
  },
  {
   "cell_type": "code",
   "execution_count": 8,
   "metadata": {},
   "outputs": [
    {
     "data": {
      "text/html": [
       "<div>\n",
       "<style scoped>\n",
       "    .dataframe tbody tr th:only-of-type {\n",
       "        vertical-align: middle;\n",
       "    }\n",
       "\n",
       "    .dataframe tbody tr th {\n",
       "        vertical-align: top;\n",
       "    }\n",
       "\n",
       "    .dataframe thead th {\n",
       "        text-align: right;\n",
       "    }\n",
       "</style>\n",
       "<table border=\"1\" class=\"dataframe\">\n",
       "  <thead>\n",
       "    <tr style=\"text-align: right;\">\n",
       "      <th></th>\n",
       "      <th>exp_group</th>\n",
       "      <th>user_id</th>\n",
       "    </tr>\n",
       "  </thead>\n",
       "  <tbody>\n",
       "    <tr>\n",
       "      <th>0</th>\n",
       "      <td>0</td>\n",
       "      <td>758979</td>\n",
       "    </tr>\n",
       "    <tr>\n",
       "      <th>1</th>\n",
       "      <td>1</td>\n",
       "      <td>761415</td>\n",
       "    </tr>\n",
       "    <tr>\n",
       "      <th>2</th>\n",
       "      <td>2</td>\n",
       "      <td>754958</td>\n",
       "    </tr>\n",
       "    <tr>\n",
       "      <th>3</th>\n",
       "      <td>3</td>\n",
       "      <td>768729</td>\n",
       "    </tr>\n",
       "    <tr>\n",
       "      <th>4</th>\n",
       "      <td>4</td>\n",
       "      <td>763320</td>\n",
       "    </tr>\n",
       "  </tbody>\n",
       "</table>\n",
       "</div>"
      ],
      "text/plain": [
       "   exp_group  user_id\n",
       "0          0   758979\n",
       "1          1   761415\n",
       "2          2   754958\n",
       "3          3   768729\n",
       "4          4   763320"
      ]
     },
     "execution_count": 8,
     "metadata": {},
     "output_type": "execute_result"
    }
   ],
   "source": [
    "groups = df.groupby('exp_group', as_index = False)\\\n",
    "    .agg({'user_id':'count'})\n",
    "\n",
    "groups"
   ]
  },
  {
   "attachments": {},
   "cell_type": "markdown",
   "metadata": {},
   "source": [
    "Видим, что есть 5 групп, во всех группах примерно одинаковое количество юзеров.\n",
    "\n",
    "Известно, что АА тест проходил в период с '2022-12-25' по '2022-12-31'. Проведем сравнение 2 и 3 групп."
   ]
  },
  {
   "cell_type": "code",
   "execution_count": 47,
   "metadata": {},
   "outputs": [],
   "source": [
    "# создадим отдельный датафрейм с выборкой по условию\n",
    "sub_df = df.query('(exp_group == 2 or exp_group == 3) & time >= \"2022-12-25\" & time <= \"2023-01-01\"')"
   ]
  },
  {
   "attachments": {},
   "cell_type": "markdown",
   "metadata": {},
   "source": [
    "Посчитаем CTR для каждого пользователя"
   ]
  },
  {
   "cell_type": "code",
   "execution_count": 48,
   "metadata": {},
   "outputs": [],
   "source": [
    "ctr_table = sub_df.pivot_table(index='user_id', columns='action', aggfunc='size', fill_value=0).reset_index()\n",
    "ctr_table['ctr'] = ctr_table.like / ctr_table.view"
   ]
  },
  {
   "cell_type": "code",
   "execution_count": 49,
   "metadata": {},
   "outputs": [],
   "source": [
    "exp_group = sub_df.groupby(['user_id', 'exp_group'], as_index=False).agg({'action':'count'})\n",
    "ctr_table = ctr_table.merge(exp_group, on='user_id', how='inner')"
   ]
  },
  {
   "cell_type": "code",
   "execution_count": 50,
   "metadata": {},
   "outputs": [
    {
     "data": {
      "text/html": [
       "<div>\n",
       "<style scoped>\n",
       "    .dataframe tbody tr th:only-of-type {\n",
       "        vertical-align: middle;\n",
       "    }\n",
       "\n",
       "    .dataframe tbody tr th {\n",
       "        vertical-align: top;\n",
       "    }\n",
       "\n",
       "    .dataframe thead th {\n",
       "        text-align: right;\n",
       "    }\n",
       "</style>\n",
       "<table border=\"1\" class=\"dataframe\">\n",
       "  <thead>\n",
       "    <tr style=\"text-align: right;\">\n",
       "      <th></th>\n",
       "      <th>user_id</th>\n",
       "      <th>like</th>\n",
       "      <th>view</th>\n",
       "      <th>ctr</th>\n",
       "      <th>exp_group</th>\n",
       "      <th>action</th>\n",
       "    </tr>\n",
       "  </thead>\n",
       "  <tbody>\n",
       "    <tr>\n",
       "      <th>0</th>\n",
       "      <td>200</td>\n",
       "      <td>12</td>\n",
       "      <td>36</td>\n",
       "      <td>0.333333</td>\n",
       "      <td>3</td>\n",
       "      <td>48</td>\n",
       "    </tr>\n",
       "    <tr>\n",
       "      <th>1</th>\n",
       "      <td>204</td>\n",
       "      <td>8</td>\n",
       "      <td>38</td>\n",
       "      <td>0.210526</td>\n",
       "      <td>3</td>\n",
       "      <td>46</td>\n",
       "    </tr>\n",
       "    <tr>\n",
       "      <th>2</th>\n",
       "      <td>207</td>\n",
       "      <td>22</td>\n",
       "      <td>61</td>\n",
       "      <td>0.360656</td>\n",
       "      <td>3</td>\n",
       "      <td>83</td>\n",
       "    </tr>\n",
       "    <tr>\n",
       "      <th>3</th>\n",
       "      <td>215</td>\n",
       "      <td>7</td>\n",
       "      <td>47</td>\n",
       "      <td>0.148936</td>\n",
       "      <td>3</td>\n",
       "      <td>54</td>\n",
       "    </tr>\n",
       "    <tr>\n",
       "      <th>4</th>\n",
       "      <td>217</td>\n",
       "      <td>11</td>\n",
       "      <td>61</td>\n",
       "      <td>0.180328</td>\n",
       "      <td>3</td>\n",
       "      <td>72</td>\n",
       "    </tr>\n",
       "  </tbody>\n",
       "</table>\n",
       "</div>"
      ],
      "text/plain": [
       "   user_id  like  view       ctr  exp_group  action\n",
       "0      200    12    36  0.333333          3      48\n",
       "1      204     8    38  0.210526          3      46\n",
       "2      207    22    61  0.360656          3      83\n",
       "3      215     7    47  0.148936          3      54\n",
       "4      217    11    61  0.180328          3      72"
      ]
     },
     "execution_count": 50,
     "metadata": {},
     "output_type": "execute_result"
    }
   ],
   "source": [
    "ctr_table.head()"
   ]
  },
  {
   "attachments": {},
   "cell_type": "markdown",
   "metadata": {},
   "source": [
    "Посмотрим на распределение CTR в группах."
   ]
  },
  {
   "cell_type": "code",
   "execution_count": 52,
   "metadata": {},
   "outputs": [
    {
     "data": {
      "image/png": "[encoded data removed]",
      "text/plain": [
       "<Figure size 720x360 with 1 Axes>"
      ]
     },
     "metadata": {},
     "output_type": "display_data"
    }
   ],
   "source": [
    "sns.set(rc={'figure.figsize':(10,5)})\n",
    "\n",
    "groups = sns.histplot(data = ctr_table, \n",
    "              x='ctr', \n",
    "              hue='exp_group', \n",
    "              palette = ['b', 'r'],\n",
    "              alpha=0.5,\n",
    "              kde=False)"
   ]
  },
  {
   "cell_type": "markdown",
   "metadata": {},
   "source": [
    "Визуально группы очень близки по распределению и среднему."
   ]
  },
  {
   "attachments": {},
   "cell_type": "markdown",
   "metadata": {},
   "source": [
    "Проведем симуляцию, как будто было проведено 10000 АА-тестов. На каждой итерации сформируем подвыборки без повторения в 500 юзеров. И проведем сравнение этих подвыборок t-testом."
   ]
  },
  {
   "cell_type": "code",
   "execution_count": 53,
   "metadata": {},
   "outputs": [],
   "source": [
    "#Количество симуляций\n",
    "simulations = 10000\n",
    "\n",
    "#Размер подвыборки\n",
    "samples = 500\n",
    "\n",
    "#Пустой массив для p-values\n",
    "p_values = []\n",
    "\n",
    "#Исследуемые группы\n",
    "group2 = ctr_table.query('exp_group == 2').ctr.to_list()\n",
    "group3 = ctr_table.query('exp_group == 3').ctr.to_list()\n",
    "\n",
    "for i in range(simulations):\n",
    "    #Генерируем случайные подвыборки без повторения\n",
    "    sample2 = random.sample(group2, samples)\n",
    "    sample3 = random.sample(group3, samples)\n",
    "\n",
    "    #Проводим Т-тест\n",
    "    t_test_result = ttest_ind(sample2, sample3)\n",
    "\n",
    "    #Забираем из него значение p-value и добавляем в массив\n",
    "    p_values.append(t_test_result.pvalue)\n",
    "\n",
    "p_values = np.array(p_values)"
   ]
  },
  {
   "cell_type": "code",
   "execution_count": 54,
   "metadata": {},
   "outputs": [
    {
     "data": {
      "image/png": "[encoded data removed]",
      "text/plain": [
       "<Figure size 720x360 with 1 Axes>"
      ]
     },
     "metadata": {},
     "output_type": "display_data"
    }
   ],
   "source": [
    "fig = plt.figure(figsize=(10, 5))\n",
    "plt.hist(p_values)\n",
    "plt.show()"
   ]
  },
  {
   "cell_type": "code",
   "execution_count": 55,
   "metadata": {},
   "outputs": [
    {
     "data": {
      "text/plain": [
       "4.74"
      ]
     },
     "execution_count": 55,
     "metadata": {},
     "output_type": "execute_result"
    }
   ],
   "source": [
    "prc = sum(p_values <= 0.05) / len(p_values) * 100\n",
    "round(prc, 2)"
   ]
  },
  {
   "attachments": {},
   "cell_type": "markdown",
   "metadata": {},
   "source": [
    "Видим, что все p-values распределены на гистограмме практически равномерно, что может означать, что результаты теста не показывают статистически значимых различий между двумя группами. Процент p-values, меньших или равных 0.05, близок к 5%, но меньше. Это говорит о том, что нет оснований отвергнуть нулевую гипотезу о равенстве средних в группах, и что система сплитования работает корректно."
   ]
  },
  {
   "attachments": {},
   "cell_type": "markdown",
   "metadata": {},
   "source": [
    "#### A/B тест\n",
    "\n",
    "Эксперимент проходил с 2023-01-01 по 2023-01-07 включительно. Для эксперимента были задействованы 2 и 1 группы.\n",
    "В группе 2 был использован один из новых алгоритмов рекомендации постов, группа 1 использовалась в качестве контроля. \n",
    "\n",
    "Основная гипотеза заключается в том, что новый алгоритм во 2-й группе приведет к увеличению CTR. "
   ]
  },
  {
   "cell_type": "code",
   "execution_count": 59,
   "metadata": {},
   "outputs": [],
   "source": [
    "dfAB = pd.read_csv('AB.csv')"
   ]
  },
  {
   "cell_type": "code",
   "execution_count": 66,
   "metadata": {},
   "outputs": [
    {
     "data": {
      "text/html": [
       "<div>\n",
       "<style scoped>\n",
       "    .dataframe tbody tr th:only-of-type {\n",
       "        vertical-align: middle;\n",
       "    }\n",
       "\n",
       "    .dataframe tbody tr th {\n",
       "        vertical-align: top;\n",
       "    }\n",
       "\n",
       "    .dataframe thead th {\n",
       "        text-align: right;\n",
       "    }\n",
       "</style>\n",
       "<table border=\"1\" class=\"dataframe\">\n",
       "  <thead>\n",
       "    <tr style=\"text-align: right;\">\n",
       "      <th></th>\n",
       "      <th>user_id</th>\n",
       "      <th>post_id</th>\n",
       "      <th>action</th>\n",
       "      <th>time</th>\n",
       "      <th>gender</th>\n",
       "      <th>age</th>\n",
       "      <th>country</th>\n",
       "      <th>city</th>\n",
       "      <th>os</th>\n",
       "      <th>source</th>\n",
       "      <th>exp_group</th>\n",
       "    </tr>\n",
       "  </thead>\n",
       "  <tbody>\n",
       "    <tr>\n",
       "      <th>0</th>\n",
       "      <td>132354</td>\n",
       "      <td>2119</td>\n",
       "      <td>view</td>\n",
       "      <td>2023-01-02 20:40:27</td>\n",
       "      <td>0</td>\n",
       "      <td>19</td>\n",
       "      <td>Russia</td>\n",
       "      <td>Ulan-Ude</td>\n",
       "      <td>Android</td>\n",
       "      <td>organic</td>\n",
       "      <td>1</td>\n",
       "    </tr>\n",
       "    <tr>\n",
       "      <th>1</th>\n",
       "      <td>135083</td>\n",
       "      <td>2110</td>\n",
       "      <td>view</td>\n",
       "      <td>2023-01-02 20:40:27</td>\n",
       "      <td>0</td>\n",
       "      <td>17</td>\n",
       "      <td>Russia</td>\n",
       "      <td>Kostroma</td>\n",
       "      <td>iOS</td>\n",
       "      <td>organic</td>\n",
       "      <td>1</td>\n",
       "    </tr>\n",
       "    <tr>\n",
       "      <th>2</th>\n",
       "      <td>16974</td>\n",
       "      <td>1973</td>\n",
       "      <td>view</td>\n",
       "      <td>2023-01-02 20:40:28</td>\n",
       "      <td>1</td>\n",
       "      <td>36</td>\n",
       "      <td>Russia</td>\n",
       "      <td>Chelyabinsk</td>\n",
       "      <td>iOS</td>\n",
       "      <td>ads</td>\n",
       "      <td>1</td>\n",
       "    </tr>\n",
       "    <tr>\n",
       "      <th>3</th>\n",
       "      <td>131154</td>\n",
       "      <td>1977</td>\n",
       "      <td>like</td>\n",
       "      <td>2023-01-02 20:40:28</td>\n",
       "      <td>0</td>\n",
       "      <td>20</td>\n",
       "      <td>Russia</td>\n",
       "      <td>Balakovo</td>\n",
       "      <td>Android</td>\n",
       "      <td>organic</td>\n",
       "      <td>1</td>\n",
       "    </tr>\n",
       "    <tr>\n",
       "      <th>4</th>\n",
       "      <td>14524</td>\n",
       "      <td>2152</td>\n",
       "      <td>view</td>\n",
       "      <td>2023-01-02 20:40:29</td>\n",
       "      <td>0</td>\n",
       "      <td>34</td>\n",
       "      <td>Russia</td>\n",
       "      <td>Kineshma</td>\n",
       "      <td>iOS</td>\n",
       "      <td>ads</td>\n",
       "      <td>2</td>\n",
       "    </tr>\n",
       "  </tbody>\n",
       "</table>\n",
       "</div>"
      ],
      "text/plain": [
       "   user_id  post_id action                 time  gender  age country  \\\n",
       "0   132354     2119   view  2023-01-02 20:40:27       0   19  Russia   \n",
       "1   135083     2110   view  2023-01-02 20:40:27       0   17  Russia   \n",
       "2    16974     1973   view  2023-01-02 20:40:28       1   36  Russia   \n",
       "3   131154     1977   like  2023-01-02 20:40:28       0   20  Russia   \n",
       "4    14524     2152   view  2023-01-02 20:40:29       0   34  Russia   \n",
       "\n",
       "          city       os   source  exp_group  \n",
       "0     Ulan-Ude  Android  organic          1  \n",
       "1     Kostroma      iOS  organic          1  \n",
       "2  Chelyabinsk      iOS      ads          1  \n",
       "3     Balakovo  Android  organic          1  \n",
       "4     Kineshma      iOS      ads          2  "
      ]
     },
     "execution_count": 66,
     "metadata": {},
     "output_type": "execute_result"
    }
   ],
   "source": [
    "dfAB.head()"
   ]
  },
  {
   "cell_type": "markdown",
   "metadata": {},
   "source": [
    "Создадим отдельную таблицу с расчетом ctr для каждого пользователя."
   ]
  },
  {
   "cell_type": "code",
   "execution_count": 67,
   "metadata": {},
   "outputs": [],
   "source": [
    "ctr_table = dfAB.pivot_table(index='user_id', columns='action', aggfunc='size', fill_value=0).reset_index()\n",
    "ctr_table['ctr'] = ctr_table.like / ctr_table.view\n",
    "exp_group = dfAB.groupby(['user_id', 'exp_group'], as_index=False).agg({'action':'count'})\n",
    "ctr_table = ctr_table.merge(exp_group, on='user_id', how='inner')"
   ]
  },
  {
   "cell_type": "code",
   "execution_count": 69,
   "metadata": {},
   "outputs": [
    {
     "data": {
      "text/html": [
       "<div>\n",
       "<style scoped>\n",
       "    .dataframe tbody tr th:only-of-type {\n",
       "        vertical-align: middle;\n",
       "    }\n",
       "\n",
       "    .dataframe tbody tr th {\n",
       "        vertical-align: top;\n",
       "    }\n",
       "\n",
       "    .dataframe thead th {\n",
       "        text-align: right;\n",
       "    }\n",
       "</style>\n",
       "<table border=\"1\" class=\"dataframe\">\n",
       "  <thead>\n",
       "    <tr style=\"text-align: right;\">\n",
       "      <th></th>\n",
       "      <th>user_id</th>\n",
       "      <th>like</th>\n",
       "      <th>view</th>\n",
       "      <th>ctr</th>\n",
       "      <th>exp_group</th>\n",
       "      <th>action</th>\n",
       "    </tr>\n",
       "  </thead>\n",
       "  <tbody>\n",
       "    <tr>\n",
       "      <th>0</th>\n",
       "      <td>206</td>\n",
       "      <td>6</td>\n",
       "      <td>38</td>\n",
       "      <td>0.157895</td>\n",
       "      <td>1</td>\n",
       "      <td>44</td>\n",
       "    </tr>\n",
       "    <tr>\n",
       "      <th>1</th>\n",
       "      <td>216</td>\n",
       "      <td>3</td>\n",
       "      <td>27</td>\n",
       "      <td>0.111111</td>\n",
       "      <td>1</td>\n",
       "      <td>30</td>\n",
       "    </tr>\n",
       "    <tr>\n",
       "      <th>2</th>\n",
       "      <td>220</td>\n",
       "      <td>14</td>\n",
       "      <td>33</td>\n",
       "      <td>0.424242</td>\n",
       "      <td>2</td>\n",
       "      <td>47</td>\n",
       "    </tr>\n",
       "    <tr>\n",
       "      <th>3</th>\n",
       "      <td>224</td>\n",
       "      <td>3</td>\n",
       "      <td>9</td>\n",
       "      <td>0.333333</td>\n",
       "      <td>2</td>\n",
       "      <td>12</td>\n",
       "    </tr>\n",
       "    <tr>\n",
       "      <th>4</th>\n",
       "      <td>227</td>\n",
       "      <td>3</td>\n",
       "      <td>29</td>\n",
       "      <td>0.103448</td>\n",
       "      <td>2</td>\n",
       "      <td>32</td>\n",
       "    </tr>\n",
       "  </tbody>\n",
       "</table>\n",
       "</div>"
      ],
      "text/plain": [
       "   user_id  like  view       ctr  exp_group  action\n",
       "0      206     6    38  0.157895          1      44\n",
       "1      216     3    27  0.111111          1      30\n",
       "2      220    14    33  0.424242          2      47\n",
       "3      224     3     9  0.333333          2      12\n",
       "4      227     3    29  0.103448          2      32"
      ]
     },
     "execution_count": 69,
     "metadata": {},
     "output_type": "execute_result"
    }
   ],
   "source": [
    "ctr_table.head()"
   ]
  },
  {
   "attachments": {},
   "cell_type": "markdown",
   "metadata": {},
   "source": [
    "Посмотрим на распределение данных."
   ]
  },
  {
   "cell_type": "code",
   "execution_count": 70,
   "metadata": {},
   "outputs": [
    {
     "data": {
      "image/png": "[encoded data removed]",
      "text/plain": [
       "<Figure size 864x360 with 1 Axes>"
      ]
     },
     "metadata": {},
     "output_type": "display_data"
    }
   ],
   "source": [
    "sns.set(rc={'figure.figsize':(12,5)})\n",
    "\n",
    "groups = sns.histplot(data = ctr_table, \n",
    "              x='ctr', \n",
    "              hue='exp_group', \n",
    "              palette = ['g', 'r'],\n",
    "              alpha=0.5,\n",
    "              kde=False)"
   ]
  },
  {
   "attachments": {},
   "cell_type": "markdown",
   "metadata": {},
   "source": [
    "Визуально видно, что различия в группах есть. \n",
    "\n",
    "Кроме того, распределение ctr в группе 2 (тестовой) явно не нормальное, бимодальное. Это может говорить о том, что посты, рекомендуемые по новому алгоритму, части аудитории тестовой группы стали нравиться меьшне и их ctr упал, а другой части (как видно, меньшей по численности) - наоборот, что привелу к росту их ctr. Тут интересный момент - в результате среднее группы 2 может оказаться выше, т.е. по тестам формально ctr может и повысится. Нужно это проверить.\n",
    "\n",
    "Также есть вопросы к дисперсиям, поэтому применение т-теста тут может быть неоправдано. Тем не менее я его проведу - любопытно посмотреть на результаты и сравнить их с другими тестами.\n",
    "Затем сделаю тест Манна-Уитни и bootstrap."
   ]
  },
  {
   "cell_type": "code",
   "execution_count": 71,
   "metadata": {},
   "outputs": [
    {
     "data": {
      "text/plain": [
       "Ttest_indResult(statistic=0.7094392041270153, pvalue=0.4780623130875141)"
      ]
     },
     "execution_count": 71,
     "metadata": {},
     "output_type": "execute_result"
    }
   ],
   "source": [
    "ttest_ind(ctr_table[ctr_table.exp_group == 1].ctr,\n",
    "                ctr_table[ctr_table.exp_group == 2].ctr,\n",
    "                equal_var=False)"
   ]
  },
  {
   "cell_type": "code",
   "execution_count": 74,
   "metadata": {},
   "outputs": [
    {
     "data": {
      "text/plain": [
       "MannwhitneyuResult(statistic=56601260.5, pvalue=6.0376484617779035e-56)"
      ]
     },
     "execution_count": 74,
     "metadata": {},
     "output_type": "execute_result"
    }
   ],
   "source": [
    "mannwhitneyu(ctr_table[ctr_table.exp_group == 1].ctr, \n",
    "                   ctr_table[ctr_table.exp_group == 2].ctr,\n",
    "                   alternative = 'two-sided')"
   ]
  },
  {
   "cell_type": "code",
   "execution_count": 75,
   "metadata": {},
   "outputs": [],
   "source": [
    "def bootstrap(likes1, views1, likes2, views2, n_bootstrap=2000):\n",
    "    poisson_bootstraps1 = stats.poisson(1).rvs(\n",
    "        (n_bootstrap, len(likes1))).astype(np.int64)\n",
    "    poisson_bootstraps2 = stats.poisson(1).rvs(\n",
    "            (n_bootstrap, len(likes2))).astype(np.int64)\n",
    "    globalCTR1 = (poisson_bootstraps1*likes1).sum(axis=1)/(poisson_bootstraps1*views1).sum(axis=1)\n",
    "    globalCTR2 = (poisson_bootstraps2*likes2).sum(axis=1)/(poisson_bootstraps2*views2).sum(axis=1)\n",
    "\n",
    "    return globalCTR1, globalCTR2"
   ]
  },
  {
   "cell_type": "code",
   "execution_count": 76,
   "metadata": {},
   "outputs": [],
   "source": [
    "likes1 = ctr_table[ctr_table.exp_group == 1].like.to_numpy()\n",
    "views1 = ctr_table[ctr_table.exp_group == 1].view.to_numpy()\n",
    "likes2 = ctr_table[ctr_table.exp_group == 2].like.to_numpy()\n",
    "views2 = ctr_table[ctr_table.exp_group == 2].view.to_numpy()"
   ]
  },
  {
   "cell_type": "code",
   "execution_count": 79,
   "metadata": {},
   "outputs": [
    {
     "data": {
      "text/plain": [
       "<AxesSubplot:ylabel='Count'>"
      ]
     },
     "execution_count": 79,
     "metadata": {},
     "output_type": "execute_result"
    },
    {
     "data": {
      "image/png": "[encoded data removed]",
      "text/plain": [
       "<Figure size 864x360 with 1 Axes>"
      ]
     },
     "metadata": {},
     "output_type": "display_data"
    }
   ],
   "source": [
    "ctr1, ctr2 = bootstrap(likes1, views1, likes2, views2)\n",
    "\n",
    "sns.histplot(ctr1, color='g')\n",
    "sns.histplot(ctr2, color='r')"
   ]
  },
  {
   "cell_type": "code",
   "execution_count": 80,
   "metadata": {},
   "outputs": [
    {
     "data": {
      "text/plain": [
       "<AxesSubplot:ylabel='Count'>"
      ]
     },
     "execution_count": 80,
     "metadata": {},
     "output_type": "execute_result"
    },
    {
     "data": {
      "image/png": "[encoded data removed]",
      "text/plain": [
       "<Figure size 864x360 with 1 Axes>"
      ]
     },
     "metadata": {},
     "output_type": "display_data"
    }
   ],
   "source": [
    "sns.histplot(ctr2 - ctr1)"
   ]
  },
  {
   "attachments": {},
   "cell_type": "markdown",
   "metadata": {},
   "source": [
    "По т-тесту и тесту Манна-Уитни видим различия в p-value. По т-тесту pvalue=0.478, т.е. значительно выше 0.05, что в принципе ожидаемо, потому т-тесту мы не верим.\n",
    "Тест Манна-Уитни показал pvalue < 0.05, что оначает, что мы можем отклонить нулевую гипотезу, т.е. группы значимо различаются. Это подверждает и bootstrap - выборки средних вообще не пересекаются, их разница не проходит через ноль и отрицательна, что говорит о том, что ctr понизился.\n",
    "\n",
    "Таким образом, нет оснований раскатывать новый алгоритм на всех новых пользователей. Однако, принимая во внимание неоднозначность распределения ctr в тестовой группе, алгоритм можно немного доработать и повторить АБ тест."
   ]
  },
  {
   "cell_type": "markdown",
   "metadata": {},
   "source": []
  }
 ],
 "metadata": {
  "kernelspec": {
   "display_name": "base",
   "language": "python",
   "name": "python3"
  },
  "language_info": {
   "codemirror_mode": {
    "name": "ipython",
    "version": 3
   },
   "file_extension": ".py",
   "mimetype": "text/x-python",
   "name": "python",
   "nbconvert_exporter": "python",
   "pygments_lexer": "ipython3",
   "version": "3.9.12"
  },
  "orig_nbformat": 4
 },
 "nbformat": 4,
 "nbformat_minor": 2
}
